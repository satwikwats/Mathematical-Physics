{
 "cells": [
  {
   "cell_type": "code",
   "execution_count": 1,
   "metadata": {
    "id": "v_X-uvd2fnQL"
   },
   "outputs": [],
   "source": [
    "#Importing sympy and numpy to do the necessary calculatioins\n",
    "\n",
    "from sympy import *\n",
    "init_printing()\n",
    "import numpy as np\n",
    "import matplotlib.pyplot as plt\n",
    "import random"
   ]
  },
  {
   "cell_type": "markdown",
   "metadata": {
    "id": "4fSSIBm9fnQO"
   },
   "source": [
    "Assigning symbols for Matrix"
   ]
  },
  {
   "cell_type": "code",
   "execution_count": 2,
   "metadata": {
    "id": "l9Uaz1difnQP"
   },
   "outputs": [],
   "source": [
    "a,b,e0=symbols('A,B,E_0')"
   ]
  },
  {
   "cell_type": "code",
   "execution_count": 3,
   "metadata": {
    "colab": {
     "base_uri": "https://localhost:8080/",
     "height": 78
    },
    "id": "Sa7v-07CfnQQ",
    "outputId": "b21bc853-1950-4551-e773-3bdd6d9bc72b"
   },
   "outputs": [
    {
     "data": {
      "image/png": "[encoded data removed]",
      "text/latex": [
       "$\\displaystyle \\left[\\begin{matrix}E_{0} & - A & 0\\\\- A & E_{0} & - B\\\\0 & - B & E_{0}\\end{matrix}\\right]$"
      ],
      "text/plain": [
       "⎡E₀  -A  0 ⎤\n",
       "⎢          ⎥\n",
       "⎢-A  E₀  -B⎥\n",
       "⎢          ⎥\n",
       "⎣0   -B  E₀⎦"
      ]
     },
     "execution_count": 3,
     "metadata": {},
     "output_type": "execute_result"
    }
   ],
   "source": [
    "H=Matrix([[e0,-a,0],[-a,e0,-b],[0,-b,e0]])\n",
    "H #Question 1"
   ]
  },
  {
   "cell_type": "markdown",
   "metadata": {
    "id": "jYP42-2NfnQR"
   },
   "source": [
    "Calculating eigenvalues(Question 1)"
   ]
  },
  {
   "cell_type": "code",
   "execution_count": 4,
   "metadata": {
    "colab": {
     "base_uri": "https://localhost:8080/",
     "height": 47
    },
    "id": "Ca2ZaYZ5fnQR",
    "outputId": "192bf259-ae92-4cc6-aecf-cc9cffed769e"
   },
   "outputs": [
    {
     "data": {
      "image/png": "[encoded data removed]",
      "text/latex": [
       "$\\displaystyle \\left\\{ E_{0} : 1, \\  E_{0} - \\sqrt{A^{2} + B^{2}} : 1, \\  E_{0} + \\sqrt{A^{2} + B^{2}} : 1\\right\\}$"
      ],
      "text/plain": [
       "⎧               _________             _________   ⎫\n",
       "⎨              ╱  2    2             ╱  2    2    ⎬\n",
       "⎩E₀: 1, E₀ - ╲╱  A  + B  : 1, E₀ + ╲╱  A  + B  : 1⎭"
      ]
     },
     "execution_count": 4,
     "metadata": {},
     "output_type": "execute_result"
    }
   ],
   "source": [
    "H.eigenvals()"
   ]
  },
  {
   "cell_type": "markdown",
   "metadata": {
    "id": "kGxjBzOvfnQS"
   },
   "source": [
    "Computing eigenvectors(Question 1)"
   ]
  },
  {
   "cell_type": "code",
   "execution_count": 5,
   "metadata": {
    "colab": {
     "base_uri": "https://localhost:8080/",
     "height": 82
    },
    "id": "1YOJHdzGfnQS",
    "outputId": "6350ff29-7304-4248-f6ab-b08a5313f2db"
   },
   "outputs": [
    {
     "data": {
      "image/png": "[encoded data removed]",
      "text/latex": [
       "$\\displaystyle \\left[ \\left( E_{0}, \\  1, \\  \\left[ \\left[\\begin{matrix}- \\frac{B}{A}\\\\0\\\\1\\end{matrix}\\right]\\right]\\right), \\  \\left( E_{0} - \\sqrt{A^{2} + B^{2}}, \\  1, \\  \\left[ \\left[\\begin{matrix}\\frac{A}{B}\\\\\\frac{E_{0}}{B} - \\frac{E_{0} - \\sqrt{A^{2} + B^{2}}}{B}\\\\1\\end{matrix}\\right]\\right]\\right), \\  \\left( E_{0} + \\sqrt{A^{2} + B^{2}}, \\  1, \\  \\left[ \\left[\\begin{matrix}\\frac{A}{B}\\\\\\frac{E_{0}}{B} - \\frac{E_{0} + \\sqrt{A^{2} + B^{2}}}{B}\\\\1\\end{matrix}\\right]\\right]\\right)\\right]$"
      ],
      "text/plain": [
       "⎡                  ⎛                      ⎡⎡          A           ⎤⎤⎞  ⎛      \n",
       "⎢                  ⎜                      ⎢⎢          ─           ⎥⎥⎟  ⎜      \n",
       "⎢⎛       ⎡⎡-B ⎤⎤⎞  ⎜                      ⎢⎢          B           ⎥⎥⎟  ⎜      \n",
       "⎢⎜       ⎢⎢───⎥⎥⎟  ⎜        _________     ⎢⎢                      ⎥⎥⎟  ⎜      \n",
       "⎢⎜       ⎢⎢ A ⎥⎥⎟  ⎜       ╱  2    2      ⎢⎢             _________⎥⎥⎟  ⎜      \n",
       "⎢⎜E₀, 1, ⎢⎢   ⎥⎥⎟, ⎜E₀ - ╲╱  A  + B  , 1, ⎢⎢            ╱  2    2 ⎥⎥⎟, ⎜E₀ + ╲\n",
       "⎢⎜       ⎢⎢ 0 ⎥⎥⎟  ⎜                      ⎢⎢E₀   E₀ - ╲╱  A  + B  ⎥⎥⎟  ⎜      \n",
       "⎢⎜       ⎢⎢   ⎥⎥⎟  ⎜                      ⎢⎢── - ─────────────────⎥⎥⎟  ⎜      \n",
       "⎢⎝       ⎣⎣ 1 ⎦⎦⎠  ⎜                      ⎢⎢B            B        ⎥⎥⎟  ⎜      \n",
       "⎢                  ⎜                      ⎢⎢                      ⎥⎥⎟  ⎜      \n",
       "⎣                  ⎝                      ⎣⎣          1           ⎦⎦⎠  ⎝      \n",
       "\n",
       "                ⎡⎡          A           ⎤⎤⎞⎤\n",
       "                ⎢⎢          ─           ⎥⎥⎟⎥\n",
       "                ⎢⎢          B           ⎥⎥⎟⎥\n",
       "  _________     ⎢⎢                      ⎥⎥⎟⎥\n",
       " ╱  2    2      ⎢⎢             _________⎥⎥⎟⎥\n",
       "╱  A  + B  , 1, ⎢⎢            ╱  2    2 ⎥⎥⎟⎥\n",
       "                ⎢⎢E₀   E₀ + ╲╱  A  + B  ⎥⎥⎟⎥\n",
       "                ⎢⎢── - ─────────────────⎥⎥⎟⎥\n",
       "                ⎢⎢B            B        ⎥⎥⎟⎥\n",
       "                ⎢⎢                      ⎥⎥⎟⎥\n",
       "                ⎣⎣          1           ⎦⎦⎠⎦"
      ]
     },
     "execution_count": 5,
     "metadata": {},
     "output_type": "execute_result"
    }
   ],
   "source": [
    "H.eigenvects()"
   ]
  },
  {
   "cell_type": "markdown",
   "metadata": {
    "id": "UuXFaUd4fnQT"
   },
   "source": [
    "Finding the basis transformation matrix P (Question 1)"
   ]
  },
  {
   "cell_type": "code",
   "execution_count": 6,
   "metadata": {
    "id": "mEqMh16zfnQT"
   },
   "outputs": [],
   "source": [
    "P,D=H.diagonalize()"
   ]
  },
  {
   "cell_type": "code",
   "execution_count": 7,
   "metadata": {
    "colab": {
     "base_uri": "https://localhost:8080/"
    },
    "id": "EucLGZzsfnQU",
    "outputId": "f6dcca1a-39af-498b-d912-04e31d34ae65"
   },
   "outputs": [
    {
     "data": {
      "image/png": "[encoded data removed]",
      "text/latex": [
       "$\\displaystyle \\left[\\begin{matrix}- \\frac{B}{A} & \\frac{A}{B} & \\frac{A}{B}\\\\0 & \\frac{\\sqrt{A^{2} + B^{2}}}{B} & - \\frac{\\sqrt{A^{2} + B^{2}}}{B}\\\\1 & 1 & 1\\end{matrix}\\right]$"
      ],
      "text/plain": [
       "⎡-B        A              A       ⎤\n",
       "⎢───       ─              ─       ⎥\n",
       "⎢ A        B              B       ⎥\n",
       "⎢                                 ⎥\n",
       "⎢        _________      _________ ⎥\n",
       "⎢       ╱  2    2      ╱  2    2  ⎥\n",
       "⎢     ╲╱  A  + B    -╲╱  A  + B   ⎥\n",
       "⎢ 0   ────────────  ──────────────⎥\n",
       "⎢          B              B       ⎥\n",
       "⎢                                 ⎥\n",
       "⎣ 1        1              1       ⎦"
      ]
     },
     "execution_count": 7,
     "metadata": {},
     "output_type": "execute_result"
    }
   ],
   "source": [
    "P"
   ]
  },
  {
   "cell_type": "code",
   "execution_count": 8,
   "metadata": {
    "colab": {
     "base_uri": "https://localhost:8080/"
    },
    "id": "aOgijLAZfnQU",
    "outputId": "1b1d1a2d-36f0-47a1-9375-463096acd883"
   },
   "outputs": [
    {
     "data": {
      "image/png": "[encoded data removed]",
      "text/latex": [
       "$\\displaystyle \\left[\\begin{matrix}E_{0} & 0 & 0\\\\0 & E_{0} - \\sqrt{A^{2} + B^{2}} & 0\\\\0 & 0 & E_{0} + \\sqrt{A^{2} + B^{2}}\\end{matrix}\\right]$"
      ],
      "text/plain": [
       "⎡E₀          0                  0        ⎤\n",
       "⎢                                        ⎥\n",
       "⎢            _________                   ⎥\n",
       "⎢           ╱  2    2                    ⎥\n",
       "⎢0   E₀ - ╲╱  A  + B            0        ⎥\n",
       "⎢                                        ⎥\n",
       "⎢                               _________⎥\n",
       "⎢                              ╱  2    2 ⎥\n",
       "⎣0           0          E₀ + ╲╱  A  + B  ⎦"
      ]
     },
     "execution_count": 8,
     "metadata": {},
     "output_type": "execute_result"
    }
   ],
   "source": [
    "D   #Diagonalized matrix of eigen basis"
   ]
  },
  {
   "cell_type": "code",
   "execution_count": 9,
   "metadata": {
    "id": "koENwam_fnQV"
   },
   "outputs": [
    {
     "data": {
      "image/png": "[encoded data removed]",
      "text/latex": [
       "$\\displaystyle \\left[\\begin{matrix}- \\frac{A B}{A^{2} + B^{2}} & 0 & \\frac{A^{2}}{A^{2} + B^{2}}\\\\\\frac{A B}{2 \\left(A^{2} + B^{2}\\right)} & \\frac{B}{2 \\sqrt{A^{2} + B^{2}}} & \\frac{B^{2}}{2 \\left(A^{2} + B^{2}\\right)}\\\\\\frac{A B}{2 \\left(A^{2} + B^{2}\\right)} & - \\frac{B}{2 \\sqrt{A^{2} + B^{2}}} & \\frac{B^{2}}{2 \\left(A^{2} + B^{2}\\right)}\\end{matrix}\\right]$"
      ],
      "text/plain": [
       "⎡                                   2    ⎤\n",
       "⎢   -A⋅B                           A     ⎥\n",
       "⎢  ───────          0           ───────  ⎥\n",
       "⎢   2    2                       2    2  ⎥\n",
       "⎢  A  + B                       A  + B   ⎥\n",
       "⎢                                        ⎥\n",
       "⎢                                   2    ⎥\n",
       "⎢    A⋅B            B              B     ⎥\n",
       "⎢───────────  ──────────────  ───────────⎥\n",
       "⎢  ⎛ 2    2⎞       _________    ⎛ 2    2⎞⎥\n",
       "⎢2⋅⎝A  + B ⎠      ╱  2    2   2⋅⎝A  + B ⎠⎥\n",
       "⎢             2⋅╲╱  A  + B               ⎥\n",
       "⎢                                        ⎥\n",
       "⎢                                   2    ⎥\n",
       "⎢    A⋅B           -B              B     ⎥\n",
       "⎢───────────  ──────────────  ───────────⎥\n",
       "⎢  ⎛ 2    2⎞       _________    ⎛ 2    2⎞⎥\n",
       "⎢2⋅⎝A  + B ⎠      ╱  2    2   2⋅⎝A  + B ⎠⎥\n",
       "⎣             2⋅╲╱  A  + B               ⎦"
      ]
     },
     "execution_count": 9,
     "metadata": {},
     "output_type": "execute_result"
    }
   ],
   "source": [
    "simplify(P.inv())#Calculating inverse matrix for transferring inital conditions from physical basis to eigen basis"
   ]
  },
  {
   "cell_type": "code",
   "execution_count": 10,
   "metadata": {
    "id": "9wWmCV36fnQV"
   },
   "outputs": [],
   "source": [
    "Pinv=simplify(P.inv())"
   ]
  },
  {
   "cell_type": "code",
   "execution_count": 11,
   "metadata": {
    "id": "_1f4W39zfnQW"
   },
   "outputs": [
    {
     "data": {
      "text/plain": [
       "True"
      ]
     },
     "execution_count": 11,
     "metadata": {},
     "output_type": "execute_result"
    }
   ],
   "source": [
    "simplify(P*D*P.inv())==H"
   ]
  },
  {
   "cell_type": "markdown",
   "metadata": {
    "id": "sSGlrC2TfnQW"
   },
   "source": [
    "Getting the solution matrix (U)"
   ]
  },
  {
   "cell_type": "code",
   "execution_count": 12,
   "metadata": {
    "id": "bjPlwtIffnQW"
   },
   "outputs": [],
   "source": [
    "v1,v2,v3=symbols('e\\u207D-i\\u03BB\\u2081t\\u2044h\\u207E,e\\u207D-i\\u03BB\\u2082t\\u2044h\\u207E,e\\u207D-i\\u03BB\\u2083t\\u2044h\\u207E')"
   ]
  },
  {
   "cell_type": "code",
   "execution_count": 13,
   "metadata": {
    "id": "OR1-6eOzfnQW"
   },
   "outputs": [
    {
     "name": "stderr",
     "output_type": "stream",
     "text": [
      "C:\\Users\\Abc\\anaconda3\\lib\\site-packages\\IPython\\lib\\latextools.py:126: MatplotlibDeprecationWarning: \n",
      "The to_png function was deprecated in Matplotlib 3.4 and will be removed two minor releases later. Use mathtext.math_to_image instead.\n",
      "  mt.to_png(f, s, fontsize=12, dpi=dpi, color=color)\n",
      "C:\\Users\\Abc\\anaconda3\\lib\\site-packages\\IPython\\lib\\latextools.py:126: MatplotlibDeprecationWarning: \n",
      "The to_rgba function was deprecated in Matplotlib 3.4 and will be removed two minor releases later. Use mathtext.math_to_image instead.\n",
      "  mt.to_png(f, s, fontsize=12, dpi=dpi, color=color)\n",
      "C:\\Users\\Abc\\anaconda3\\lib\\site-packages\\IPython\\lib\\latextools.py:126: MatplotlibDeprecationWarning: \n",
      "The to_mask function was deprecated in Matplotlib 3.4 and will be removed two minor releases later. Use mathtext.math_to_image instead.\n",
      "  mt.to_png(f, s, fontsize=12, dpi=dpi, color=color)\n",
      "C:\\Users\\Abc\\anaconda3\\lib\\site-packages\\IPython\\lib\\latextools.py:126: MatplotlibDeprecationWarning: \n",
      "The MathtextBackendBitmap class was deprecated in Matplotlib 3.4 and will be removed two minor releases later. Use mathtext.math_to_image instead.\n",
      "  mt.to_png(f, s, fontsize=12, dpi=dpi, color=color)\n"
     ]
    },
    {
     "data": {
      "text/latex": [
       "$\\displaystyle \\left[\\begin{matrix}e⁽-iλ₁t⁄h⁾ & 0 & 0\\\\0 & e⁽-iλ₂t⁄h⁾ & 0\\\\0 & 0 & e⁽-iλ₃t⁄h⁾\\end{matrix}\\right]$"
      ],
      "text/plain": [
       "⎡e⁽-iλ₁t⁄h⁾      0           0     ⎤\n",
       "⎢                                  ⎥\n",
       "⎢    0       e⁽-iλ₂t⁄h⁾      0     ⎥\n",
       "⎢                                  ⎥\n",
       "⎣    0           0       e⁽-iλ₃t⁄h⁾⎦"
      ]
     },
     "metadata": {},
     "output_type": "display_data"
    }
   ],
   "source": [
    "U = Matrix([[v1, 0, 0], [0, v2, 0], [0, 0, v3]])\n",
    "display(U)"
   ]
  },
  {
   "cell_type": "markdown",
   "metadata": {
    "id": "OuupT0aYfnQX"
   },
   "source": [
    "Question 3 Calculating PUP^-1 matrix"
   ]
  },
  {
   "cell_type": "code",
   "execution_count": 14,
   "metadata": {
    "id": "PUqmmlGdfnQX"
   },
   "outputs": [
    {
     "data": {
      "text/latex": [
       "$\\displaystyle \\left[\\begin{matrix}\\frac{\\frac{A^{2} \\left(e⁽-iλ₂t⁄h⁾ + e⁽-iλ₃t⁄h⁾\\right)}{2} + B^{2} e⁽-iλ₁t⁄h⁾}{A^{2} + B^{2}} & \\frac{A \\left(e⁽-iλ₂t⁄h⁾ - e⁽-iλ₃t⁄h⁾\\right)}{2 \\sqrt{A^{2} + B^{2}}} & \\frac{A B \\left(- 2 e⁽-iλ₁t⁄h⁾ + e⁽-iλ₂t⁄h⁾ + e⁽-iλ₃t⁄h⁾\\right)}{2 \\left(A^{2} + B^{2}\\right)}\\\\\\frac{A \\left(e⁽-iλ₂t⁄h⁾ - e⁽-iλ₃t⁄h⁾\\right)}{2 \\sqrt{A^{2} + B^{2}}} & \\frac{e⁽-iλ₂t⁄h⁾}{2} + \\frac{e⁽-iλ₃t⁄h⁾}{2} & \\frac{B \\left(e⁽-iλ₂t⁄h⁾ - e⁽-iλ₃t⁄h⁾\\right)}{2 \\sqrt{A^{2} + B^{2}}}\\\\\\frac{A B \\left(- 2 e⁽-iλ₁t⁄h⁾ + e⁽-iλ₂t⁄h⁾ + e⁽-iλ₃t⁄h⁾\\right)}{2 \\left(A^{2} + B^{2}\\right)} & \\frac{B \\left(e⁽-iλ₂t⁄h⁾ - e⁽-iλ₃t⁄h⁾\\right)}{2 \\sqrt{A^{2} + B^{2}}} & \\frac{A^{2} e⁽-iλ₁t⁄h⁾ + \\frac{B^{2} \\left(e⁽-iλ₂t⁄h⁾ + e⁽-iλ₃t⁄h⁾\\right)}{2}}{A^{2} + B^{2}}\\end{matrix}\\right]$"
      ],
      "text/plain": [
       "⎡ 2                                                                           \n",
       "⎢A ⋅(e⁽-iλ₂t⁄h⁾ + e⁽-iλ₃t⁄h⁾)    2                                            \n",
       "⎢──────────────────────────── + B ⋅e⁽-iλ₁t⁄h⁾                                 \n",
       "⎢             2                                 A⋅(e⁽-iλ₂t⁄h⁾ - e⁽-iλ₃t⁄h⁾)  A\n",
       "⎢────────────────────────────────────────────   ───────────────────────────  ─\n",
       "⎢                   2    2                                  _________         \n",
       "⎢                  A  + B                                  ╱  2    2          \n",
       "⎢                                                      2⋅╲╱  A  + B           \n",
       "⎢                                                                             \n",
       "⎢         A⋅(e⁽-iλ₂t⁄h⁾ - e⁽-iλ₃t⁄h⁾)             e⁽-iλ₂t⁄h⁾   e⁽-iλ₃t⁄h⁾     \n",
       "⎢         ───────────────────────────             ────────── + ──────────     \n",
       "⎢                     _________                       2            2          \n",
       "⎢                    ╱  2    2                                                \n",
       "⎢                2⋅╲╱  A  + B                                                 \n",
       "⎢                                                                             \n",
       "⎢                                                                             \n",
       "⎢                                                                             \n",
       "⎢                                                                            A\n",
       "⎢A⋅B⋅(-2⋅e⁽-iλ₁t⁄h⁾ + e⁽-iλ₂t⁄h⁾ + e⁽-iλ₃t⁄h⁾)  B⋅(e⁽-iλ₂t⁄h⁾ - e⁽-iλ₃t⁄h⁾)   \n",
       "⎢─────────────────────────────────────────────  ───────────────────────────  ─\n",
       "⎢                   ⎛ 2    2⎞                               _________         \n",
       "⎢                 2⋅⎝A  + B ⎠                              ╱  2    2          \n",
       "⎣                                                      2⋅╲╱  A  + B           \n",
       "\n",
       "                                            ⎤\n",
       "                                            ⎥\n",
       "                                            ⎥\n",
       "⋅B⋅(-2⋅e⁽-iλ₁t⁄h⁾ + e⁽-iλ₂t⁄h⁾ + e⁽-iλ₃t⁄h⁾)⎥\n",
       "────────────────────────────────────────────⎥\n",
       "                  ⎛ 2    2⎞                 ⎥\n",
       "                2⋅⎝A  + B ⎠                 ⎥\n",
       "                                            ⎥\n",
       "                                            ⎥\n",
       "        B⋅(e⁽-iλ₂t⁄h⁾ - e⁽-iλ₃t⁄h⁾)         ⎥\n",
       "        ───────────────────────────         ⎥\n",
       "                    _________               ⎥\n",
       "                   ╱  2    2                ⎥\n",
       "               2⋅╲╱  A  + B                 ⎥\n",
       "                                            ⎥\n",
       "                2                           ⎥\n",
       "2              B ⋅(e⁽-iλ₂t⁄h⁾ + e⁽-iλ₃t⁄h⁾) ⎥\n",
       " ⋅e⁽-iλ₁t⁄h⁾ + ──────────────────────────── ⎥\n",
       "                            2               ⎥\n",
       "─────────────────────────────────────────── ⎥\n",
       "                  2    2                    ⎥\n",
       "                 A  + B                     ⎥\n",
       "                                            ⎦"
      ]
     },
     "metadata": {},
     "output_type": "display_data"
    }
   ],
   "source": [
    "PUPinv = simplify(P*U*P.inv())\n",
    "display(PUPinv)"
   ]
  },
  {
   "cell_type": "markdown",
   "metadata": {
    "id": "bOjZ5XVyfnQX"
   },
   "source": [
    "Question 4 Calculating the values using the inital condition."
   ]
  },
  {
   "cell_type": "code",
   "execution_count": 15,
   "metadata": {
    "id": "sLTbZVJqfnQY"
   },
   "outputs": [
    {
     "data": {
      "text/latex": [
       "$\\displaystyle \\left[\\begin{matrix}\\frac{\\frac{A^{2} \\left(e⁽-iλ₂t⁄h⁾ + e⁽-iλ₃t⁄h⁾\\right)}{2} + B^{2} e⁽-iλ₁t⁄h⁾}{A^{2} + B^{2}}\\\\\\frac{A \\left(e⁽-iλ₂t⁄h⁾ - e⁽-iλ₃t⁄h⁾\\right)}{2 \\sqrt{A^{2} + B^{2}}}\\\\\\frac{A B \\left(- 2 e⁽-iλ₁t⁄h⁾ + e⁽-iλ₂t⁄h⁾ + e⁽-iλ₃t⁄h⁾\\right)}{2 \\left(A^{2} + B^{2}\\right)}\\end{matrix}\\right]$"
      ],
      "text/plain": [
       "⎡ 2                                           ⎤\n",
       "⎢A ⋅(e⁽-iλ₂t⁄h⁾ + e⁽-iλ₃t⁄h⁾)    2            ⎥\n",
       "⎢──────────────────────────── + B ⋅e⁽-iλ₁t⁄h⁾ ⎥\n",
       "⎢             2                               ⎥\n",
       "⎢──────────────────────────────────────────── ⎥\n",
       "⎢                   2    2                    ⎥\n",
       "⎢                  A  + B                     ⎥\n",
       "⎢                                             ⎥\n",
       "⎢         A⋅(e⁽-iλ₂t⁄h⁾ - e⁽-iλ₃t⁄h⁾)         ⎥\n",
       "⎢         ───────────────────────────         ⎥\n",
       "⎢                     _________               ⎥\n",
       "⎢                    ╱  2    2                ⎥\n",
       "⎢                2⋅╲╱  A  + B                 ⎥\n",
       "⎢                                             ⎥\n",
       "⎢A⋅B⋅(-2⋅e⁽-iλ₁t⁄h⁾ + e⁽-iλ₂t⁄h⁾ + e⁽-iλ₃t⁄h⁾)⎥\n",
       "⎢─────────────────────────────────────────────⎥\n",
       "⎢                   ⎛ 2    2⎞                 ⎥\n",
       "⎣                 2⋅⎝A  + B ⎠                 ⎦"
      ]
     },
     "metadata": {},
     "output_type": "display_data"
    }
   ],
   "source": [
    "init = Matrix([1, 0, 0])\n",
    "int_pupinv = simplify(PUPinv*init)\n",
    "display(int_pupinv)"
   ]
  },
  {
   "cell_type": "markdown",
   "metadata": {
    "id": "bXzson99fnQY"
   },
   "source": [
    "Question 6"
   ]
  },
  {
   "cell_type": "code",
   "execution_count": 16,
   "metadata": {
    "id": "0XlS5IdKfnQY"
   },
   "outputs": [
    {
     "data": {
      "image/png": "[encoded data removed]",
      "text/plain": [
       "<Figure size 432x288 with 1 Axes>"
      ]
     },
     "metadata": {
      "needs_background": "light"
     },
     "output_type": "display_data"
    }
   ],
   "source": [
    "#Plotting probablities of electron, muon and tau neutrino\n",
    "\n",
    "def psielectron(kt):\n",
    "    return (0.5*np.cos(kt)+0.5)**2\n",
    "def psimu(kt):\n",
    "    return np.sin(kt)**2/2\n",
    "def psitau(kt):\n",
    "    return (0.5*np.cos(kt)-0.5)**2\n",
    "kt=np.arange(0,3*np.pi,0.01)\n",
    "plt.plot(kt, psielectron(kt), '-r', label='Electron Neutrino')\n",
    "plt.plot(kt, psimu(kt), '-g',label='Muon Neutrino')\n",
    "plt.plot(kt, psitau(kt), '-000000',label='Tau Neutrino')\n",
    "plt.title(\"Plotting the graph of '\\u03C8\\u209C' versus '\\u03BAt' for electron, muon and tau neutrino\")\n",
    "plt.xlabel('\\u03BAt')\n",
    "plt.ylabel('|\\u03C8\\u209C|\\u00B2')\n",
    "plt.legend()\n",
    "plt.show()"
   ]
  },
  {
   "cell_type": "markdown",
   "metadata": {
    "id": "TWGgiOpCfnQZ"
   },
   "source": [
    "Coupled Oscillator"
   ]
  },
  {
   "cell_type": "code",
   "execution_count": 17,
   "metadata": {
    "id": "VPOwiTgefnQZ"
   },
   "outputs": [],
   "source": [
    "w1,w2=symbols('w1,w2')"
   ]
  },
  {
   "cell_type": "code",
   "execution_count": 18,
   "metadata": {
    "colab": {
     "base_uri": "https://localhost:8080/",
     "height": 58
    },
    "id": "HISYh7_wfnQZ",
    "outputId": "f4653741-5cf0-44b4-f73e-312fbacf732d"
   },
   "outputs": [
    {
     "data": {
      "image/png": "[encoded data removed]",
      "text/latex": [
       "$\\displaystyle \\left[\\begin{matrix}w_{1} + w_{2} & - w_{2}\\\\- w_{2} & w_{1} + w_{2}\\end{matrix}\\right]$"
      ],
      "text/plain": [
       "⎡w₁ + w₂    -w₂  ⎤\n",
       "⎢                ⎥\n",
       "⎣  -w₂    w₁ + w₂⎦"
      ]
     },
     "execution_count": 18,
     "metadata": {},
     "output_type": "execute_result"
    }
   ],
   "source": [
    "A=Matrix([[w1+w2,-w2],[-w2,w1+w2]])\n",
    "A"
   ]
  },
  {
   "cell_type": "code",
   "execution_count": null,
   "metadata": {
    "id": "yrEfmAYhfnQZ"
   },
   "outputs": [],
   "source": []
  },
  {
   "cell_type": "code",
   "execution_count": null,
   "metadata": {
    "id": "vQ_UQ_4NfnQZ"
   },
   "outputs": [],
   "source": []
  },
  {
   "cell_type": "code",
   "execution_count": null,
   "metadata": {
    "id": "wSXivDKjfnQZ"
   },
   "outputs": [],
   "source": []
  }
 ],
 "metadata": {
  "colab": {
   "provenance": []
  },
  "interpreter": {
   "hash": "a5e859ff04a2bd405c49b5d5925ac88fcddb02938827f565d0ce81c758f75408"
  },
  "kernelspec": {
   "display_name": "Python 3 (ipykernel)",
   "language": "python",
   "name": "python3"
  },
  "language_info": {
   "codemirror_mode": {
    "name": "ipython",
    "version": 3
   },
   "file_extension": ".py",
   "mimetype": "text/x-python",
   "name": "python",
   "nbconvert_exporter": "python",
   "pygments_lexer": "ipython3",
   "version": "3.9.7"
  }
 },
 "nbformat": 4,
 "nbformat_minor": 1
}
